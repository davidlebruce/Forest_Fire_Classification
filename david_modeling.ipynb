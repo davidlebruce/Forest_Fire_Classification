{
 "cells": [
  {
   "cell_type": "code",
   "execution_count": 1,
   "metadata": {},
   "outputs": [],
   "source": [
    "import pandas as pd\n",
    "import numpy as np\n",
    "import matplotlib.pyplot as plt\n",
    "%matplotlib inline\n",
    "import seaborn as sns\n",
    "\n",
    "from sklearn.linear_model import LogisticRegression\n",
    "from sklearn.neighbors import KNeighborsClassifier\n",
    "from sklearn.preprocessing import StandardScaler\n",
    "from sklearn.model_selection import train_test_split, cross_val_score\n",
    "from sklearn.tree import DecisionTreeClassifier \n",
    "from sklearn.metrics import f1_score\n",
    "from sklearn.utils import resample\n",
    "from sklearn.model_selection import GridSearchCV\n",
    "from sklearn.feature_selection import SelectKBest, RFECV, chi2, f_classif, mutual_info_classif\n",
    " \n",
    "import warnings\n",
    "warnings.filterwarnings('ignore')\n",
    "pd.pandas.set_option('display.max_columns', None)"
   ]
  },
  {
   "cell_type": "code",
   "execution_count": 2,
   "metadata": {},
   "outputs": [],
   "source": [
    "df = pd.read_csv('cleaned_fire_data.csv')"
   ]
  },
  {
   "cell_type": "code",
   "execution_count": 3,
   "metadata": {},
   "outputs": [],
   "source": [
    "conditions = [df['stat_cause_descr'] == 'Missing/Undefined',\n",
    " df['stat_cause_descr'] == 'Arson',\n",
    " df['stat_cause_descr'] == 'Debris Burning',\n",
    " df['stat_cause_descr'] == 'Campfire',\n",
    " df['stat_cause_descr'] == 'Miscellaneous',\n",
    " df['stat_cause_descr'] == 'Fireworks',\n",
    " df['stat_cause_descr'] == 'Lightning',\n",
    " df['stat_cause_descr'] == 'Equipment Use',\n",
    " df['stat_cause_descr'] == 'Children',\n",
    " df['stat_cause_descr'] == 'Smoking',\n",
    " df['stat_cause_descr'] == 'Railroad',\n",
    " df['stat_cause_descr'] == 'Structure',\n",
    " df['stat_cause_descr'] == 'Powerline']\n",
    "outputs = range(0,(len(conditions)))\n",
    "df['stat_cause_descr'] = np.select(conditions, outputs)"
   ]
  },
  {
   "cell_type": "code",
   "execution_count": 4,
   "metadata": {},
   "outputs": [],
   "source": [
    "cols_to_drop = [\n",
    "    'Unnamed: 0',\n",
    "    'fire_size',\n",
    "    'fire_size_class',\n",
    "    'disc_clean_date'\n",
    "]"
   ]
  },
  {
   "cell_type": "code",
   "execution_count": 5,
   "metadata": {},
   "outputs": [],
   "source": [
    "df = df.drop(columns=cols_to_drop,axis=1)"
   ]
  },
  {
   "cell_type": "code",
   "execution_count": 6,
   "metadata": {},
   "outputs": [
    {
     "data": {
      "text/plain": [
       "(36535, 100)"
      ]
     },
     "execution_count": 6,
     "metadata": {},
     "output_type": "execute_result"
    }
   ],
   "source": [
    "df.shape"
   ]
  },
  {
   "cell_type": "code",
   "execution_count": 7,
   "metadata": {},
   "outputs": [],
   "source": [
    "X = df.drop(columns='target',axis=1)\n",
    "y = df['target']\n",
    "\n",
    "X_train, X_test, y_train, y_test = train_test_split(X, y, random_state=88)\n",
    "\n",
    "scaler = StandardScaler()  \n",
    "scaler.fit(X_train)\n",
    "\n",
    "X_train = scaler.transform(X_train)  \n",
    "X_test = scaler.transform(X_test)"
   ]
  },
  {
   "cell_type": "markdown",
   "metadata": {},
   "source": [
    "## Logistic Regression Function"
   ]
  },
  {
   "cell_type": "code",
   "execution_count": null,
   "metadata": {},
   "outputs": [],
   "source": [
    "# def LogRegTest(input_x,input_y):\n",
    "#     lr = LogisticRegression(random_state=1,C=1e9)\n",
    "#     lr.fit(input_x,input_y)\n",
    "#     pred_train = lr.predict(input_x)\n",
    "#     score = f1_score(input_y,pred_train,zero_division=1)\n",
    "#     return score"
   ]
  },
  {
   "cell_type": "markdown",
   "metadata": {},
   "source": [
    "## KNN Function"
   ]
  },
  {
   "cell_type": "code",
   "execution_count": null,
   "metadata": {},
   "outputs": [],
   "source": [
    "# def KnnTest(input_x,input_y):\n",
    "#     knn = KNeighborsClassifier(n_neighbors=5)\n",
    "#     knn.fit(input_x,input_y)\n",
    "#     pred_train = knn.predict(input_x)\n",
    "#     score = f1_score(input_y,pred_train,zero_division=1)\n",
    "#     return score"
   ]
  },
  {
   "cell_type": "markdown",
   "metadata": {},
   "source": [
    "## Decision Tree Function"
   ]
  },
  {
   "cell_type": "code",
   "execution_count": null,
   "metadata": {},
   "outputs": [],
   "source": [
    "# def DTreeTest(input_x,input_y):\n",
    "#     tree = DecisionTreeClassifier()\n",
    "#     tree.fit(input_x,input_y)\n",
    "#     pred_train = tree.predict(input_x)\n",
    "#     score = f1_score(input_y,pred_train,zero_division=1)\n",
    "#     return score"
   ]
  },
  {
   "cell_type": "markdown",
   "metadata": {},
   "source": [
    "### Training Evaluations (F1)"
   ]
  },
  {
   "cell_type": "code",
   "execution_count": null,
   "metadata": {},
   "outputs": [],
   "source": [
    "print('LogReg F1: ', LogRegTest(X_train,y_train))\n",
    "print('Knn F1: ', KnnTest(X_train,y_train))\n",
    "print('Dtree F1: ', DTreeTest(X_train,y_train))"
   ]
  },
  {
   "cell_type": "code",
   "execution_count": 8,
   "metadata": {},
   "outputs": [
    {
     "name": "stdout",
     "output_type": "stream",
     "text": [
      "Train:  0.5380921895006401\n",
      "Test:  0.5264650283553874\n"
     ]
    }
   ],
   "source": [
    "# Logistic Regression\n",
    "\n",
    "lr = LogisticRegression(random_state=2,C=1e9,class_weight='balanced',penalty='l2')\n",
    "\n",
    "lr.fit(X_train,y_train)\n",
    "\n",
    "pred_train = lr.predict(X_train)\n",
    "\n",
    "pred_test = lr.predict(X_test)\n",
    "\n",
    "score_train = f1_score(y_train,pred_train)\n",
    "score_test = f1_score(y_test,pred_test)\n",
    "\n",
    "print('Train: ',score_train)\n",
    "print('Test: ',score_test)"
   ]
  },
  {
   "cell_type": "code",
   "execution_count": 9,
   "metadata": {},
   "outputs": [
    {
     "name": "stdout",
     "output_type": "stream",
     "text": [
      "Train:  0.5380921895006401\n",
      "Test:  0.5264650283553874\n"
     ]
    }
   ],
   "source": [
    "# KNN\n",
    "knn = KNeighborsClassifier(n_neighbors=5,algorithm='auto',weights='uniform')\n",
    "\n",
    "knn.fit(X_train, y_train)\n",
    "\n",
    "y_pred_train = knn.predict(X_train)\n",
    "\n",
    "y_pred_test = knn.predict(X_test)\n",
    "\n",
    "score_train = f1_score(y_train,pred_train)\n",
    "score_test = f1_score(y_test,pred_test)\n",
    "\n",
    "print('Train: ',score_train)\n",
    "print('Test: ',score_test)"
   ]
  },
  {
   "cell_type": "code",
   "execution_count": 19,
   "metadata": {},
   "outputs": [
    {
     "name": "stdout",
     "output_type": "stream",
     "text": [
      "Train:  0.8418935228644226\n",
      "Test:  0.8004827031375703\n"
     ]
    }
   ],
   "source": [
    "#Decision Tree\n",
    "tree = DecisionTreeClassifier(max_depth=12, min_samples_split=17,criterion='gini',min_samples_leaf=4)\n",
    "\n",
    "tree = tree.fit(X_train,y_train)\n",
    "\n",
    "pred_train = tree.predict(X_train)\n",
    "\n",
    "pred_test = tree.predict(X_test)\n",
    "\n",
    "score_train = f1_score(y_train,pred_train)\n",
    "score_test = f1_score(y_test,pred_test)\n",
    "\n",
    "print('Train: ',score_train)\n",
    "print('Test: ',score_test)"
   ]
  },
  {
   "cell_type": "markdown",
   "metadata": {},
   "source": [
    "### Decision Tree GridSearchCV"
   ]
  },
  {
   "cell_type": "code",
   "execution_count": 22,
   "metadata": {},
   "outputs": [],
   "source": [
    "parameters = {'max_depth': range(3,15,1),\n",
    "              'max_leaf_nodes': range(0,50,2),\n",
    "              'min_samples_split': range(2,12,1),\n",
    "              'criterion': ['gini', 'entropy'],\n",
    "              'class_weight': [None, 'balanced'],\n",
    "             }"
   ]
  },
  {
   "cell_type": "code",
   "execution_count": 23,
   "metadata": {},
   "outputs": [
    {
     "name": "stdout",
     "output_type": "stream",
     "text": [
      "Fitting 10 folds for each of 12000 candidates, totalling 120000 fits\n"
     ]
    },
    {
     "name": "stderr",
     "output_type": "stream",
     "text": [
      "[Parallel(n_jobs=-1)]: Using backend LokyBackend with 4 concurrent workers.\n",
      "[Parallel(n_jobs=-1)]: Done  42 tasks      | elapsed:    5.5s\n",
      "[Parallel(n_jobs=-1)]: Done 336 tasks      | elapsed:   31.8s\n",
      "[Parallel(n_jobs=-1)]: Done 686 tasks      | elapsed:  1.2min\n",
      "[Parallel(n_jobs=-1)]: Done 1036 tasks      | elapsed:  2.0min\n",
      "[Parallel(n_jobs=-1)]: Done 1486 tasks      | elapsed:  2.9min\n",
      "[Parallel(n_jobs=-1)]: Done 2036 tasks      | elapsed:  4.1min\n",
      "[Parallel(n_jobs=-1)]: Done 2840 tasks      | elapsed:  5.5min\n",
      "[Parallel(n_jobs=-1)]: Done 3612 tasks      | elapsed:  7.5min\n",
      "[Parallel(n_jobs=-1)]: Done 4462 tasks      | elapsed:  9.8min\n",
      "[Parallel(n_jobs=-1)]: Done 5504 tasks      | elapsed: 12.1min\n",
      "[Parallel(n_jobs=-1)]: Done 6554 tasks      | elapsed: 15.2min\n",
      "[Parallel(n_jobs=-1)]: Done 7872 tasks      | elapsed: 18.6min\n",
      "[Parallel(n_jobs=-1)]: Done 9134 tasks      | elapsed: 22.5min\n",
      "[Parallel(n_jobs=-1)]: Done 10680 tasks      | elapsed: 26.8min\n",
      "[Parallel(n_jobs=-1)]: Done 12130 tasks      | elapsed: 32.0min\n",
      "[Parallel(n_jobs=-1)]: Done 13800 tasks      | elapsed: 36.7min\n",
      "[Parallel(n_jobs=-1)]: Done 15610 tasks      | elapsed: 42.4min\n",
      "[Parallel(n_jobs=-1)]: Done 17360 tasks      | elapsed: 48.3min\n",
      "[Parallel(n_jobs=-1)]: Done 19402 tasks      | elapsed: 54.2min\n",
      "[Parallel(n_jobs=-1)]: Done 21508 tasks      | elapsed: 60.4min\n",
      "[Parallel(n_jobs=-1)]: Done 23710 tasks      | elapsed: 67.0min\n",
      "[Parallel(n_jobs=-1)]: Done 25952 tasks      | elapsed: 73.8min\n",
      "[Parallel(n_jobs=-1)]: Done 28318 tasks      | elapsed: 81.0min\n",
      "[Parallel(n_jobs=-1)]: Done 30760 tasks      | elapsed: 88.5min\n",
      "[Parallel(n_jobs=-1)]: Done 33306 tasks      | elapsed: 94.8min\n",
      "[Parallel(n_jobs=-1)]: Done 35956 tasks      | elapsed: 102.4min\n",
      "[Parallel(n_jobs=-1)]: Done 38706 tasks      | elapsed: 111.5min\n",
      "[Parallel(n_jobs=-1)]: Done 41544 tasks      | elapsed: 122.1min\n",
      "[Parallel(n_jobs=-1)]: Done 44494 tasks      | elapsed: 134.0min\n",
      "[Parallel(n_jobs=-1)]: Done 47536 tasks      | elapsed: 146.4min\n",
      "[Parallel(n_jobs=-1)]: Done 50718 tasks      | elapsed: 158.3min\n",
      "[Parallel(n_jobs=-1)]: Done 53960 tasks      | elapsed: 171.6min\n",
      "[Parallel(n_jobs=-1)]: Done 57278 tasks      | elapsed: 186.0min\n",
      "[Parallel(n_jobs=-1)]: Done 60844 tasks      | elapsed: 198.6min\n",
      "[Parallel(n_jobs=-1)]: Done 64414 tasks      | elapsed: 207.2min\n",
      "[Parallel(n_jobs=-1)]: Done 68120 tasks      | elapsed: 217.6min\n",
      "[Parallel(n_jobs=-1)]: Done 71874 tasks      | elapsed: 230.4min\n",
      "[Parallel(n_jobs=-1)]: Done 75872 tasks      | elapsed: 244.3min\n",
      "[Parallel(n_jobs=-1)]: Done 79822 tasks      | elapsed: 258.6min\n",
      "[Parallel(n_jobs=-1)]: Done 83972 tasks      | elapsed: 272.9min\n",
      "[Parallel(n_jobs=-1)]: Done 88222 tasks      | elapsed: 288.5min\n",
      "[Parallel(n_jobs=-1)]: Done 92432 tasks      | elapsed: 302.4min\n",
      "[Parallel(n_jobs=-1)]: Done 96866 tasks      | elapsed: 317.3min\n",
      "[Parallel(n_jobs=-1)]: Done 101380 tasks      | elapsed: 335.5min\n",
      "[Parallel(n_jobs=-1)]: Done 105994 tasks      | elapsed: 355.9min\n",
      "[Parallel(n_jobs=-1)]: Done 110724 tasks      | elapsed: 378.1min\n",
      "[Parallel(n_jobs=-1)]: Done 115558 tasks      | elapsed: 400.6min\n",
      "[Parallel(n_jobs=-1)]: Done 120000 out of 120000 | elapsed: 425.5min finished\n"
     ]
    },
    {
     "data": {
      "text/plain": [
       "GridSearchCV(cv=10, estimator=DecisionTreeClassifier(random_state=88),\n",
       "             n_jobs=-1,\n",
       "             param_grid={'class_weight': [None, 'balanced'],\n",
       "                         'criterion': ['gini', 'entropy'],\n",
       "                         'max_depth': range(3, 15),\n",
       "                         'max_leaf_nodes': range(0, 50, 2),\n",
       "                         'min_samples_split': range(2, 12)},\n",
       "             scoring='f1', verbose=1)"
      ]
     },
     "execution_count": 23,
     "metadata": {},
     "output_type": "execute_result"
    }
   ],
   "source": [
    "dtc = DecisionTreeClassifier(random_state=88)\n",
    "\n",
    "grid_tree = GridSearchCV(dtc, parameters, cv=10, scoring='f1', verbose=1, n_jobs=-1)\n",
    "\n",
    "grid_tree.fit(X_train, y_train)"
   ]
  },
  {
   "cell_type": "code",
   "execution_count": 24,
   "metadata": {},
   "outputs": [
    {
     "name": "stdout",
     "output_type": "stream",
     "text": [
      "Best Score:  0.8118010088419844\n",
      "Best Parameters:  {'class_weight': None, 'criterion': 'gini', 'max_depth': 13, 'max_leaf_nodes': 40, 'min_samples_split': 2}\n",
      "Best Estimator:  DecisionTreeClassifier(max_depth=13, max_leaf_nodes=40, random_state=88)\n"
     ]
    }
   ],
   "source": [
    "print(\"Best Score: \", grid_tree.best_score_)\n",
    "print(\"Best Parameters: \", grid_tree.best_params_)\n",
    "print(\"Best Estimator: \", grid_tree.best_estimator_)"
   ]
  },
  {
   "cell_type": "code",
   "execution_count": 25,
   "metadata": {},
   "outputs": [
    {
     "name": "stdout",
     "output_type": "stream",
     "text": [
      "F1 Test:  0.8110749185667753\n"
     ]
    }
   ],
   "source": [
    "y_pred = grid_tree.best_estimator_.predict(X_test)\n",
    "\n",
    "print('F1 Test: ', f1_score(y_test, y_pred))"
   ]
  },
  {
   "cell_type": "code",
   "execution_count": null,
   "metadata": {},
   "outputs": [],
   "source": []
  },
  {
   "cell_type": "code",
   "execution_count": null,
   "metadata": {},
   "outputs": [],
   "source": []
  },
  {
   "cell_type": "code",
   "execution_count": null,
   "metadata": {},
   "outputs": [],
   "source": []
  },
  {
   "cell_type": "code",
   "execution_count": null,
   "metadata": {},
   "outputs": [],
   "source": []
  }
 ],
 "metadata": {
  "kernelspec": {
   "display_name": "Python 3",
   "language": "python",
   "name": "python3"
  },
  "language_info": {
   "codemirror_mode": {
    "name": "ipython",
    "version": 3
   },
   "file_extension": ".py",
   "mimetype": "text/x-python",
   "name": "python",
   "nbconvert_exporter": "python",
   "pygments_lexer": "ipython3",
   "version": "3.6.9"
  }
 },
 "nbformat": 4,
 "nbformat_minor": 4
}
